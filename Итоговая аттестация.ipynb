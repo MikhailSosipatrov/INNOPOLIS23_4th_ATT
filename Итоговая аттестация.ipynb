{
 "cells": [
  {
   "cell_type": "code",
   "execution_count": 8,
   "id": "e2c93a52",
   "metadata": {},
   "outputs": [],
   "source": [
    "import tensorflow as tf\n",
    "import os\n",
    "import numpy as np\n",
    "import sklearn\n",
    "import pandas as pd\n",
    "\n",
    "from tensorflow.keras import layers, models"
   ]
  },
  {
   "cell_type": "markdown",
   "id": "9d2a018c",
   "metadata": {},
   "source": [
    "# Загружаем данные датасета"
   ]
  },
  {
   "cell_type": "code",
   "execution_count": 9,
   "id": "9b2c91e1",
   "metadata": {},
   "outputs": [],
   "source": [
    "_CIFAR_IMAGE_SIZE = 32\n",
    "from numpy import loadtxt\n",
    "\n",
    "def load_data(path, labels_number=1):\n",
    "  with tf.io.gfile.GFile(path, 'rb') as f:\n",
    "    data = f.read()\n",
    "  offset = 0\n",
    "  max_offset = len(data) - 1\n",
    "  coarse_labels = []\n",
    "  fine_labels = []\n",
    "  images = []\n",
    "  while offset < max_offset:\n",
    "    labels = np.frombuffer(\n",
    "        data, dtype=np.uint8, count=labels_number, offset=offset\n",
    "    ).reshape((labels_number,))\n",
    "    offset += labels_number\n",
    "    img = (\n",
    "        np.frombuffer(data, dtype=np.uint8, count=3072, offset=offset)\n",
    "        .reshape((3, _CIFAR_IMAGE_SIZE, _CIFAR_IMAGE_SIZE))\n",
    "        .transpose((1, 2, 0))\n",
    "    )\n",
    "    offset += 3072\n",
    "    coarse_labels.append(labels[0])\n",
    "    fine_labels.append(labels[1])\n",
    "    images.append(img)\n",
    "  return [np.array(coarse_labels), np.array(fine_labels), np.array(images)]\n",
    "\n",
    "def load_labels(path):\n",
    "    return loadtxt(path, comments=\"#\", delimiter=\",\", unpack=False, dtype='str')\n",
    "\n",
    "def load_cifar100():\n",
    "    url = \"https://www.cs.toronto.edu/~kriz/cifar-100-binary.tar.gz\"\n",
    "    dataset = tf.keras.utils.get_file(\"cifar.tar.gz\", url,untar=True, cache_dir='.', cache_subdir='')\n",
    "    dataset_dir = os.path.join(os.path.dirname(dataset), 'cifar-100-binary')\n",
    "    CY_train, FY_train, X_train = load_data(os.path.join(dataset_dir, 'train.bin'), labels_number=2)\n",
    "    CY_test, FY_test, X_test = load_data(os.path.join(dataset_dir, 'test.bin'), labels_number=2)\n",
    "    C_label = load_labels(os.path.join(dataset_dir, 'coarse_label_names.txt'))\n",
    "    F_label = load_labels(os.path.join(dataset_dir, 'fine_label_names.txt'))\n",
    "    \n",
    "    return X_train, CY_train, FY_train, X_test, CY_test, FY_test, C_label, F_label"
   ]
  },
  {
   "cell_type": "code",
   "execution_count": null,
   "id": "7790268f",
   "metadata": {},
   "outputs": [
    {
     "name": "stdout",
     "output_type": "stream",
     "text": [
      "Downloading data from https://www.cs.toronto.edu/~kriz/cifar-100-binary.tar.gz\n",
      "  8298496/168513733 [>.............................] - ETA: 52s"
     ]
    }
   ],
   "source": [
    "X_train, CY_train, FY_train, X_test, CY_test, FY_test, C_label, F_label = load_cifar100()\n",
    "X_train, X_test = X_train / 255.0, X_test / 255.0"
   ]
  },
  {
   "cell_type": "markdown",
   "id": "080071ba",
   "metadata": {},
   "source": [
    "## Модель"
   ]
  },
  {
   "cell_type": "code",
   "execution_count": null,
   "id": "e95e62b1",
   "metadata": {},
   "outputs": [],
   "source": [
    "def getCompiledModel():\n",
    "    model = getModel()\n",
    "    model.compile(loss=tf.keras.losses.SparseCategoricalCrossentropy(from_logits=True),\n",
    "              optimizer='adam',\n",
    "              metrics=['accuracy'])\n",
    "    return model\n",
    "\n",
    "def getModel():\n",
    "    model = models.Sequential()\n",
    "    model.add(layers.Conv2D(32, (3, 3), activation='relu', input_shape=(32, 32, 3)))\n",
    "    model.add(layers.MaxPooling2D((2, 2)))\n",
    "    model.add(layers.Conv2D(64, (3, 3), activation='relu'))\n",
    "    model.add(layers.MaxPooling2D((2, 2)))\n",
    "    model.add(layers.Conv2D(128, (3, 3), activation='relu'))\n",
    "    model.add(layers.MaxPooling2D((2, 2)))\n",
    "    model.add(layers.Flatten())\n",
    "    model.add(layers.Dense(256, activation='relu'))\n",
    "    model.add(layers.Dense(128, activation='relu'))\n",
    "    model.add(layers.Dense(100, activation='softmax'))\n",
    "    return model\n",
    "model = getModel()"
   ]
  },
  {
   "cell_type": "markdown",
   "id": "61d9c9cc",
   "metadata": {},
   "source": [
    "### Объяснение места в модели каждого слоя, обоснование выбора гиперпараметров.\n",
    "\n",
    "В сверточной нейронной сети выходы промежуточных слоев образуют матрицу (изображение) или набор матриц (несколько слоёв изображения). Так, например, на вход сверточной нейронной сети можно подавать три слоя изображения (R-, G-, B-каналы изображения). Основными видами слоев в сверточной нейронной сети являются сверточные слои (англ. convolutional layer), пулинговые слои (англ. pooling layer) и полносвязные слои (англ. fully-connected layer).\n",
    "\n",
    "Сверточный слой нейронной сети представляет из себя применение операции свертки к выходам с предыдущего слоя, где веса ядра свертки являются обучаемыми параметрами. Еще один обучаемый вес используется в качестве константного сдвига (англ. bias). При этом есть несколько важных деталей:\n",
    "\n",
    "-В одном сверточном слое может быть несколько сверток. В этом случае для каждой свертки на выходе получится своё изображение.\n",
    "\n",
    "-Ядра свертки могут быть трёхмерными.\n",
    "\n",
    "-Применение операции свертки уменьшает изображение. Также пиксели, которые находятся на границе изображения участвуют в меньшем количестве сверток, чем внутренние. В связи с этим в сверточных слоях используется дополнение изображения (англ. padding). Выходы с предыдущего слоя дополняются пикселями так, чтобы после свертки сохранился размер изображения. Такие свертки называют одинаковыми (англ. same convolution), а свертки без дополнения изображения называются правильными (англ. valid convolution).\n",
    "Еще одним параметром сверточного слоя является сдвиг (англ. stride). Хоть обычно свертка применяется подряд для каждого пикселя, иногда используется сдвиг, отличный от единицы — скалярное произведение считается не со всеми возможными положениями ядра, а только с положениями, кратными некоторому сдвигу S.\n",
    "\n",
    "-Высота и ширина окна свертки подбирается экспериментально и не должна быть больше начального размера изображения.\n",
    "\n",
    "Пулинговый слой призван снижать размерность изображения. Чаще всего используется функция максимума (англ. max pooling) или (взвешенного) среднего (англ. (weighted) average pooling). Обучаемых параметров у этого слоя нет"
   ]
  },
  {
   "cell_type": "markdown",
   "id": "cfa287cd",
   "metadata": {},
   "source": [
    "### Какие элементы сети зависят от количества цветов, какие — от количества классов?\n",
    "\n",
    "В качестве входных данных сверточная нейровнная сеть (CNN) принимает тензор формы (высота, ширина, кол-во цветов). В нашем случае, это (32, 32, 3).\n",
    "\n",
    "CIFAR100 имеет 100 выходных классов, поэтому используется последний плотный слой со 100 выходными данными."
   ]
  },
  {
   "cell_type": "markdown",
   "id": "f16a6042",
   "metadata": {},
   "source": [
    "## Обучение (20 классов) и метрики"
   ]
  },
  {
   "cell_type": "code",
   "execution_count": null,
   "id": "75f73127",
   "metadata": {},
   "outputs": [],
   "source": [
    "model = getCompiledModel()\n",
    "his = model.fit(X_train, CY_train, epochs=20)\n",
    "model.save('./coarse_model.keras')\n",
    "С_test_loss, С_test_acc = model.evaluate(X_test, CY_test)\n",
    "print('\\nТочность на тестовых данных:', С_test_acc)\n",
    "С_predictions = model.predict(X_test)\n",
    "\n",
    "С_predictions = np.argmax(С_predictions, axis=-1)\n",
    "\n",
    "from sklearn.metrics import classification_report\n",
    "\n",
    "print(classification_report(CY_test, С_predictions, target_names=C_label))"
   ]
  },
  {
   "cell_type": "markdown",
   "id": "a73aa511",
   "metadata": {},
   "source": [
    "## Обучение (100 классов) и метрики"
   ]
  },
  {
   "cell_type": "code",
   "execution_count": null,
   "id": "03b9b477",
   "metadata": {},
   "outputs": [],
   "source": [
    "tf.keras.backend.clear_session()\n",
    "model = model = getCompiledModel()\n",
    "his = model.fit(X_train, FY_train, epochs=20)\n",
    "model.save('./fine_model.keras')\n",
    "F_test_loss, F_test_acc = model.evaluate(X_test, FY_test)\n",
    "print('\\nТочность на тестовых данных:', F_test_acc)\n",
    "F_predictions = model.predict(X_test)\n",
    "F_predictions = np.argmax(F_predictions, axis=-1)\n",
    "print(classification_report(FY_test, F_predictions, target_names=F_label))\n",
    "F_report = classification_report(FY_test, F_predictions, target_names=F_label, output_dict = True)"
   ]
  },
  {
   "cell_type": "markdown",
   "id": "ce40763e",
   "metadata": {},
   "source": [
    "## Сравнение\n",
    "### Обобщение предсказаний по узким меткам до метки их широкого класса"
   ]
  },
  {
   "cell_type": "code",
   "execution_count": null,
   "id": "1b27f9a7",
   "metadata": {},
   "outputs": [],
   "source": [
    "def init_fine_map():\n",
    "    map = {\n",
    "        \"aquatic_mammals\": [\"beaver\", \"dolphin\", \"otter\", \"seal\", \"whale\"],\n",
    "        \"fish\": [\"aquarium_fish\", \"flatfish\", \"ray\", \"shark\", \"trout\"],\n",
    "        \"flowers\": [\"orchid\", \"poppy\", \"rose\", \"sunflower\", \"tulip\"],\n",
    "        \"food_containers\": [\"bottle\", \"bowl\", \"can\", \"cup\", \"plate\"],\n",
    "        \"fruit_and_vegetables\": [\"apple\", \"mushroom\", \"orange\", \"pear\", \"sweet_pepper\"],\n",
    "        \"household_electrical_devices\": [\"clock\", \"keyboard\", \"lamp\", \"telephone\", \"television\"],\n",
    "        \"household_furniture\": [\"bed\", \"chair\", \"couch\", \"table\", \"wardrobe\"],\n",
    "        \"insects\": [\"bee\", \"beetle\", \"butterfly\", \"caterpillar\", \"cockroach\"],\n",
    "        \"large_carnivores\": [\"bear\", \"leopard\", \"lion\", \"tiger\", \"wolf\"],\n",
    "        \"large_man-made_outdoor_things\": [\"bridge\", \"castle\", \"house\", \"road\", \"skyscraper\"],\n",
    "        \"large_natural_outdoor_scenes\": [\"cloud\", \"forest\", \"mountain\", \"plain\", \"sea\"],\n",
    "        \"large_omnivores_and_herbivores\": [\"camel\", \"cattle\", \"chimpanzee\", \"elephant\", \"kangaroo\"],\n",
    "        \"medium_mammals\": [\"fox\", \"porcupine\", \"possum\", \"raccoon\", \"skunk\"],\n",
    "        \"non-insect_invertebrates\": [\"crab\", \"lobster\", \"snail\", \"spider\", \"worm\"],\n",
    "        \"people\": [\"baby\", \"boy\", \"girl\", \"man\", \"woman\"],\n",
    "        \"reptiles\": [\"crocodile\", \"dinosaur\", \"lizard\", \"snake\", \"turtle\"],\n",
    "        \"small_mammals\": [\"hamster\", \"mouse\", \"rabbit\", \"shrew\", \"squirrel\"],\n",
    "        \"trees\": [\"maple_tree\", \"oak_tree\", \"palm_tree\", \"pine_tree\", \"willow_tree\"],\n",
    "        \"vehicles_1\": [\"bicycle\", \"bus\", \"motorcycle\", \"pickup_truck\", \"train\"],\n",
    "        \"vehicles_2\": [\"lawn_mower\", \"rocket\", \"streetcar\", \"tank\", \"tractor\"],\n",
    "    }\n",
    "    dict = {}\n",
    "    for label in F_label:\n",
    "        for key in map:\n",
    "            if label in map[key]:\n",
    "                dict.update({label: key})\n",
    "                break\n",
    "    return dict\n",
    "\n",
    "fine_to_coarse = init_fine_map()\n",
    "FC = lambda i: fine_to_coarse[F_label[i]]\n",
    "CF_predictions = np.array([FC(i) for i in F_predictions])\n",
    "C_index = lambda i: np.where(C_label == i)[0][0]\n",
    "CF_predictions = np.array([C_index(i) for i in CF_predictions])"
   ]
  },
  {
   "cell_type": "markdown",
   "id": "7606ee9d",
   "metadata": {},
   "source": [
    "### Оценка обобщенных предсказаний по узким меткам до метки их широкого класса"
   ]
  },
  {
   "cell_type": "code",
   "execution_count": null,
   "id": "415d6b3a",
   "metadata": {},
   "outputs": [],
   "source": [
    "print(classification_report(CY_test, CF_predictions, target_names=C_label))\n",
    "CF_report = classification_report(CY_test, CF_predictions, target_names=C_label, output_dict = True)"
   ]
  },
  {
   "cell_type": "markdown",
   "id": "60313aa3",
   "metadata": {},
   "source": [
    "### Оценка предсказаний при обучении на широких метках"
   ]
  },
  {
   "cell_type": "code",
   "execution_count": null,
   "id": "9685a405",
   "metadata": {},
   "outputs": [],
   "source": [
    "print(classification_report(CY_test, С_predictions, target_names=C_label))\n",
    "C_report = classification_report(CY_test, С_predictions, target_names=C_label, output_dict = True)"
   ]
  },
  {
   "cell_type": "markdown",
   "id": "8722867f",
   "metadata": {},
   "source": [
    "### Исследование с помощью графиков метрики предсказания для каких узких классов более всего отличаются от метрик их более широких классов"
   ]
  },
  {
   "cell_type": "code",
   "execution_count": null,
   "id": "8035e794",
   "metadata": {},
   "outputs": [],
   "source": [
    "F_precision =  lambda i: F_report[i]['precision']\n",
    "F_precisions = np.array([F_precision(i) for i in F_label])\n",
    "\n",
    "CF_precision =  lambda i: CF_report[fine_to_coarse[i]]['precision']\n",
    "CF_precisions = np.array([CF_precision(i) for i in F_label])\n",
    "\n",
    "C_precision =  lambda i: C_report[fine_to_coarse[i]]['precision']\n",
    "C_precisions = np.array([C_precision(i) for i in F_label])\n",
    "\n",
    "df = pd.DataFrame(\n",
    "    {\n",
    "     'label': F_label,\n",
    "     'c_label': np.array([fine_to_coarse[i] for i in F_label]),\n",
    "     'F_CF': F_precisions - CF_precisions,\n",
    "     'F_C': F_precisions - C_precisions,\n",
    "     'CF_C': CF_precisions - C_precisions,\n",
    "    })\n",
    "\n",
    "# График различия точности распознавания узкого класса и точности распознавания широкого класса по узкому\n",
    "df.sort_values(by=['c_label', 'F_CF'],ascending=True).plot.barh(y='F_CF', x='label', legend=False, figsize=(6, 16), ylabel='')\n"
   ]
  },
  {
   "cell_type": "markdown",
   "id": "6a6c2d6b",
   "metadata": {},
   "source": [
    "График показывает различия точности распознавания узкого класса и точности распознавания широкого класса и позволяет сделать вывод о том, что модель определяет лучше широкие классы или узкие. Например, изображение сосны (pine_tree) в случае определения по широкому классу определяется лучше, чем по узкому. А изображения динозавра (dinosaur), дикообраза (porcupine), облака (cloud), дороги (road) определяются с примерно одинаковой точностью, как в случае распознавания по узкому классу, так и по широкому."
   ]
  },
  {
   "cell_type": "code",
   "execution_count": null,
   "id": "250456fc",
   "metadata": {},
   "outputs": [],
   "source": [
    "# График различия точности распознавания узкого класса и точности распознавания широкого класса\n",
    "df.sort_values(by=['c_label', 'F_C'],ascending=True).plot.barh(y='F_C', x='label', legend=False, figsize=(6, 16), ylabel='')"
   ]
  },
  {
   "cell_type": "markdown",
   "id": "eafe4ede",
   "metadata": {},
   "source": [
    "График различия точности распознавания широкого класса по узкому и точности распознавания широкого класса позволяет сделать вывод о том, какие категории лучше определяются при обучении на узких классах, а какие на широких. На узких классах лучше определяются (имеют положительное значение на графике) транспортные средства (vehicles_2), деревья (trees), рептилии (reptiles), беспозвоночные ненасекомые(non-insect invertebrates), природа (large natural outdoor scenes), контейнеры для еды (food containers), водные млекопитающие (aquatic mammals) и пр.. Остальные классы лучше определяются при обучении на широких классах."
   ]
  },
  {
   "cell_type": "code",
   "execution_count": null,
   "id": "47c6bddc",
   "metadata": {},
   "outputs": [],
   "source": []
  }
 ],
 "metadata": {
  "kernelspec": {
   "display_name": "Python 3 (ipykernel)",
   "language": "python",
   "name": "python3"
  },
  "language_info": {
   "codemirror_mode": {
    "name": "ipython",
    "version": 3
   },
   "file_extension": ".py",
   "mimetype": "text/x-python",
   "name": "python",
   "nbconvert_exporter": "python",
   "pygments_lexer": "ipython3",
   "version": "3.11.4"
  }
 },
 "nbformat": 4,
 "nbformat_minor": 5
}
